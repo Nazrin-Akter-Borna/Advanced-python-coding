{
 "cells": [
  {
   "cell_type": "code",
   "execution_count": 2,
   "metadata": {},
   "outputs": [
    {
     "data": {
      "text/plain": [
       "6.8"
      ]
     },
     "execution_count": 2,
     "metadata": {},
     "output_type": "execute_result"
    }
   ],
   "source": [
    "A=[7,8,8,8,6,7,4,5,6,9]\n",
    "\n",
    "import numpy as np\n",
    "\n",
    "np.mean(A)"
   ]
  },
  {
   "cell_type": "code",
   "execution_count": 13,
   "metadata": {},
   "outputs": [
    {
     "ename": "SyntaxError",
     "evalue": "'return' outside function (<ipython-input-13-3528e17a52a9>, line 12)",
     "output_type": "error",
     "traceback": [
      "\u001b[1;36m  File \u001b[1;32m\"<ipython-input-13-3528e17a52a9>\"\u001b[1;36m, line \u001b[1;32m12\u001b[0m\n\u001b[1;33m    return sorted_lst[int(idx)]\u001b[0m\n\u001b[1;37m    ^\u001b[0m\n\u001b[1;31mSyntaxError\u001b[0m\u001b[1;31m:\u001b[0m 'return' outside function\n"
     ]
    }
   ],
   "source": []
  },
  {
   "cell_type": "code",
   "execution_count": 11,
   "metadata": {},
   "outputs": [
    {
     "name": "stdout",
     "output_type": "stream",
     "text": [
      "None\n"
     ]
    }
   ],
   "source": [
    "\n",
    "import numpy as np\n",
    "lst = [1,2,4,8,3,5,9,4,6]\n",
    "sorted_lst=[]\n",
    "sorted_lst = lst.sort()\n",
    "print(sorted_lst)"
   ]
  },
  {
   "cell_type": "code",
   "execution_count": 3,
   "metadata": {},
   "outputs": [
    {
     "name": "stdout",
     "output_type": "stream",
     "text": [
      "None\n"
     ]
    }
   ],
   "source": [
    "print(sorted_lst)"
   ]
  },
  {
   "cell_type": "code",
   "execution_count": 17,
   "metadata": {},
   "outputs": [
    {
     "ename": "TypeError",
     "evalue": "'NoneType' object is not subscriptable",
     "output_type": "error",
     "traceback": [
      "\u001b[1;31m---------------------------------------------------------------------------\u001b[0m",
      "\u001b[1;31mTypeError\u001b[0m                                 Traceback (most recent call last)",
      "\u001b[1;32m<ipython-input-17-6583ded51dac>\u001b[0m in \u001b[0;36m<module>\u001b[1;34m\u001b[0m\n\u001b[0;32m     33\u001b[0m \u001b[1;33m\u001b[0m\u001b[0m\n\u001b[0;32m     34\u001b[0m \u001b[0mlst\u001b[0m\u001b[1;33m=\u001b[0m\u001b[1;33m[\u001b[0m\u001b[1;36m1\u001b[0m\u001b[1;33m,\u001b[0m\u001b[1;36m2\u001b[0m\u001b[1;33m,\u001b[0m\u001b[1;36m6\u001b[0m\u001b[1;33m,\u001b[0m\u001b[1;36m4\u001b[0m\u001b[1;33m,\u001b[0m\u001b[1;36m7\u001b[0m\u001b[1;33m,\u001b[0m\u001b[1;36m1\u001b[0m\u001b[1;33m,\u001b[0m\u001b[1;36m9\u001b[0m\u001b[1;33m,\u001b[0m\u001b[1;36m8\u001b[0m\u001b[1;33m]\u001b[0m\u001b[1;33m\u001b[0m\u001b[1;33m\u001b[0m\u001b[0m\n\u001b[1;32m---> 35\u001b[1;33m \u001b[0mprint\u001b[0m\u001b[1;33m(\u001b[0m\u001b[0mmedian\u001b[0m\u001b[1;33m(\u001b[0m\u001b[0mlst\u001b[0m\u001b[1;33m)\u001b[0m\u001b[1;33m)\u001b[0m\u001b[1;33m\u001b[0m\u001b[1;33m\u001b[0m\u001b[0m\n\u001b[0m",
      "\u001b[1;32m<ipython-input-17-6583ded51dac>\u001b[0m in \u001b[0;36mmedian\u001b[1;34m(lst)\u001b[0m\n\u001b[0;32m     30\u001b[0m         \u001b[0midx2\u001b[0m \u001b[1;33m=\u001b[0m \u001b[0mint\u001b[0m\u001b[1;33m(\u001b[0m\u001b[0midx1\u001b[0m \u001b[1;33m+\u001b[0m \u001b[1;36m1\u001b[0m\u001b[1;33m)\u001b[0m\u001b[1;33m\u001b[0m\u001b[1;33m\u001b[0m\u001b[0m\n\u001b[0;32m     31\u001b[0m \u001b[1;33m\u001b[0m\u001b[0m\n\u001b[1;32m---> 32\u001b[1;33m         \u001b[1;32mreturn\u001b[0m \u001b[1;33m(\u001b[0m\u001b[1;33m(\u001b[0m\u001b[1;33m[\u001b[0m\u001b[0msorted_lst\u001b[0m\u001b[1;33m[\u001b[0m\u001b[0midx1\u001b[0m\u001b[1;33m]\u001b[0m\u001b[1;33m,\u001b[0m \u001b[0msorted_lst\u001b[0m\u001b[1;33m[\u001b[0m\u001b[0midx2\u001b[0m\u001b[1;33m]\u001b[0m\u001b[1;33m]\u001b[0m\u001b[1;33m)\u001b[0m\u001b[1;33m/\u001b[0m\u001b[1;36m2\u001b[0m\u001b[1;33m)\u001b[0m\u001b[1;33m\u001b[0m\u001b[1;33m\u001b[0m\u001b[0m\n\u001b[0m\u001b[0;32m     33\u001b[0m \u001b[1;33m\u001b[0m\u001b[0m\n\u001b[0;32m     34\u001b[0m \u001b[0mlst\u001b[0m\u001b[1;33m=\u001b[0m\u001b[1;33m[\u001b[0m\u001b[1;36m1\u001b[0m\u001b[1;33m,\u001b[0m\u001b[1;36m2\u001b[0m\u001b[1;33m,\u001b[0m\u001b[1;36m6\u001b[0m\u001b[1;33m,\u001b[0m\u001b[1;36m4\u001b[0m\u001b[1;33m,\u001b[0m\u001b[1;36m7\u001b[0m\u001b[1;33m,\u001b[0m\u001b[1;36m1\u001b[0m\u001b[1;33m,\u001b[0m\u001b[1;36m9\u001b[0m\u001b[1;33m,\u001b[0m\u001b[1;36m8\u001b[0m\u001b[1;33m]\u001b[0m\u001b[1;33m\u001b[0m\u001b[1;33m\u001b[0m\u001b[0m\n",
      "\u001b[1;31mTypeError\u001b[0m: 'NoneType' object is not subscriptable"
     ]
    }
   ],
   "source": [
    "\n",
    "# Assume the incoming data will be stored in a list\n",
    "def median(lst):\n",
    "    \"\"\"\n",
    "    A function which takes in a list as a parameter, and returns the median.\n",
    "\n",
    "    Parameters\n",
    "    ----------\n",
    "    lst : list\n",
    "        A list containing numeric data\n",
    "\n",
    "    Returns\n",
    "    -------\n",
    "    mean : float\n",
    "        A float representing the median of the given list\n",
    "    \"\"\"\n",
    "    import numpy as np\n",
    "\n",
    "    length = len(lst)\n",
    "    sorted_lst = lst.sort()\n",
    "\n",
    "    # Lists with an odd number of items in the list\n",
    "    if length % 2 != 0:\n",
    "        idx = (length / 2 + .5) - 1\n",
    "\n",
    "        return sorted_lst[int(idx)]\n",
    "\n",
    "    # Lists with an even number of items in the list\n",
    "    else:\n",
    "        idx1 = int(length / 2 - 1)\n",
    "        idx2 = int(idx1 + 1)\n",
    "\n",
    "        return (([sorted_lst[idx1], sorted_lst[idx2]])/2)\n",
    "    \n",
    "lst=[1,2,6,4,7,1,9,8]\n",
    "print(median(lst))"
   ]
  },
  {
   "cell_type": "code",
   "execution_count": 28,
   "metadata": {},
   "outputs": [],
   "source": [
    "lst = [1,2,4,5,7,3,4,9,6,7]\n",
    "n = len(lst)\n",
    "lst.sort()"
   ]
  },
  {
   "cell_type": "code",
   "execution_count": 29,
   "metadata": {},
   "outputs": [
    {
     "data": {
      "text/plain": [
       "[1, 2, 3, 4, 4, 5, 6, 7, 7, 9]"
      ]
     },
     "execution_count": 29,
     "metadata": {},
     "output_type": "execute_result"
    }
   ],
   "source": [
    "lst"
   ]
  },
  {
   "cell_type": "code",
   "execution_count": 31,
   "metadata": {},
   "outputs": [
    {
     "name": "stdout",
     "output_type": "stream",
     "text": [
      "4.5\n"
     ]
    }
   ],
   "source": [
    "if(n%2!=0):\n",
    "    x =int (n/2+.5)\n",
    "    print(x)\n",
    "    median = lst[x-1]\n",
    "    \n",
    "else:\n",
    "    x1=int(n/2)\n",
    "    x2=x1+1\n",
    "    median=((lst[x1-1]+lst[x2-1])/2)\n",
    "    \n",
    "print(median)"
   ]
  },
  {
   "cell_type": "code",
   "execution_count": 32,
   "metadata": {},
   "outputs": [
    {
     "data": {
      "text/plain": [
       "4.5"
      ]
     },
     "execution_count": 32,
     "metadata": {},
     "output_type": "execute_result"
    }
   ],
   "source": [
    "import numpy as np\n",
    "lst = [1,2,4,5,7,3,4,9,6,7]\n",
    "\n",
    "np.median(lst)\n"
   ]
  },
  {
   "cell_type": "code",
   "execution_count": 33,
   "metadata": {},
   "outputs": [
    {
     "data": {
      "text/plain": [
       "7.0"
      ]
     },
     "execution_count": 33,
     "metadata": {},
     "output_type": "execute_result"
    }
   ],
   "source": [
    "import numpy as np\n",
    "A=[7,8,8,8,6,7,4,5,6,9]\n",
    "A.sort()\n",
    "np.median(A)"
   ]
  },
  {
   "cell_type": "markdown",
   "metadata": {},
   "source": [
    "##### A = [1,2,4,5,6,1,2,7,8,6,4,1,2,3,4,5,6,6,6]\n",
    "##### 1 is 3 times\n",
    "##### 2 is 3 times\n",
    "##### 3 is 1 times\n",
    "##### 4 is 3 times\n",
    "##### 5 is 2 times\n",
    "##### 6 is 5 times\n",
    "##### 7 is 1 times\n",
    "##### 8 is 1 times\n",
    "##### in a list the frequency of each value is how many times  the number is in the list\n",
    "##### the highest frequency value is called mode"
   ]
  },
  {
   "cell_type": "code",
   "execution_count": 36,
   "metadata": {},
   "outputs": [
    {
     "name": "stdout",
     "output_type": "stream",
     "text": [
      "ModeResult(mode=array([6]), count=array([5]))\n"
     ]
    }
   ],
   "source": [
    "\n",
    "\n",
    "# Import the statistics module from scipy\n",
    "from scipy import stats\n",
    "A = [1,2,4,5,6,1,2,7,8,6,4,1,2,3,4,5,6,6,6]\n",
    " # Will return the mode, and it's frequency, each in a numpy array\n",
    "x = stats.mode(A)\n",
    "print(x)"
   ]
  },
  {
   "cell_type": "code",
   "execution_count": 37,
   "metadata": {},
   "outputs": [
    {
     "name": "stdout",
     "output_type": "stream",
     "text": [
      "ModeResult(mode=array([6]), count=array([5]))\n"
     ]
    }
   ],
   "source": [
    "print(x)"
   ]
  },
  {
   "cell_type": "code",
   "execution_count": 44,
   "metadata": {},
   "outputs": [
    {
     "data": {
      "text/plain": [
       "80.6875"
      ]
     },
     "execution_count": 44,
     "metadata": {},
     "output_type": "execute_result"
    }
   ],
   "source": [
    "B=[95,60,84,77,67,83,83,94,79,70,79,94,80,83,90,73] \n",
    "import numpy as np\n",
    "\n",
    "np.mean(B)   "
   ]
  },
  {
   "cell_type": "code",
   "execution_count": 42,
   "metadata": {
    "scrolled": false
   },
   "outputs": [
    {
     "ename": "NameError",
     "evalue": "name 'X' is not defined",
     "output_type": "error",
     "traceback": [
      "\u001b[1;31m---------------------------------------------------------------------------\u001b[0m",
      "\u001b[1;31mNameError\u001b[0m                                 Traceback (most recent call last)",
      "\u001b[1;32m<ipython-input-42-419a2093ba4a>\u001b[0m in \u001b[0;36m<module>\u001b[1;34m\u001b[0m\n\u001b[1;32m----> 1\u001b[1;33m \u001b[0mC\u001b[0m\u001b[1;33m=\u001b[0m\u001b[1;33m{\u001b[0m\u001b[1;36m13\u001b[0m\u001b[1;33m,\u001b[0m\u001b[1;36m14\u001b[0m\u001b[1;33m,\u001b[0m\u001b[1;36m15\u001b[0m\u001b[1;33m,\u001b[0m\u001b[1;36m10\u001b[0m\u001b[1;33m,\u001b[0m\u001b[1;36m11\u001b[0m\u001b[1;33m,\u001b[0m\u001b[0mX\u001b[0m\u001b[1;33m,\u001b[0m\u001b[1;36m14\u001b[0m\u001b[1;33m,\u001b[0m\u001b[1;36m13\u001b[0m\u001b[1;33m,\u001b[0m\u001b[1;36m10\u001b[0m\u001b[1;33m,\u001b[0m\u001b[1;36m10\u001b[0m\u001b[1;33m}\u001b[0m\u001b[1;33m\u001b[0m\u001b[1;33m\u001b[0m\u001b[0m\n\u001b[0m\u001b[0;32m      2\u001b[0m \u001b[1;32mimport\u001b[0m \u001b[0mnumpy\u001b[0m \u001b[1;32mas\u001b[0m \u001b[0mnp\u001b[0m\u001b[1;33m\u001b[0m\u001b[1;33m\u001b[0m\u001b[0m\n\u001b[0;32m      3\u001b[0m \u001b[1;33m\u001b[0m\u001b[0m\n\u001b[0;32m      4\u001b[0m \u001b[0mnp\u001b[0m\u001b[1;33m.\u001b[0m\u001b[0mmean\u001b[0m\u001b[1;33m(\u001b[0m\u001b[0mX\u001b[0m\u001b[1;33m)\u001b[0m\u001b[1;33m\u001b[0m\u001b[1;33m\u001b[0m\u001b[0m\n",
      "\u001b[1;31mNameError\u001b[0m: name 'X' is not defined"
     ]
    }
   ],
   "source": [
    "C={13,14,15,10,11,X,14,13,10,10}\n",
    "import numpy as np\n",
    "\n",
    "np.mean(X)"
   ]
  },
  {
   "cell_type": "code",
   "execution_count": null,
   "metadata": {},
   "outputs": [],
   "source": [
    "(13+14+15+10+11+X+14+13+10+10)/10 = 12/1\n",
    "(110+X)/10=12/1"
   ]
  },
  {
   "cell_type": "code",
   "execution_count": 10,
   "metadata": {},
   "outputs": [
    {
     "name": "stdout",
     "output_type": "stream",
     "text": [
      "127\n",
      "38\n"
     ]
    }
   ],
   "source": [
    "C=[13,14,15,10,11,'X',14,13,10,10,17]\n",
    "l =len(C)\n",
    "C.remove('X')\n",
    "x = 0\n",
    "\n",
    "for i in C:\n",
    "    x+=i\n",
    "avg = 15\n",
    "print(x)\n",
    "\n",
    "X = (avg*l)-x\n",
    "\n",
    "print(X)"
   ]
  },
  {
   "cell_type": "code",
   "execution_count": 13,
   "metadata": {},
   "outputs": [
    {
     "name": "stdout",
     "output_type": "stream",
     "text": [
      "[60, 67, 70, 77, 79, 79, 80, 83, 83, 83, 84, 90, 94, 94, 95]\n"
     ]
    },
    {
     "data": {
      "text/plain": [
       "83.0"
      ]
     },
     "execution_count": 13,
     "metadata": {},
     "output_type": "execute_result"
    }
   ],
   "source": [
    "import numpy as np\n",
    "B = [95,60,84,77,67,83,83,94,79,70,79,94,80,83,90]\n",
    "B.sort()\n",
    "print(B)\n",
    "np.median(B)"
   ]
  },
  {
   "cell_type": "code",
   "execution_count": 14,
   "metadata": {},
   "outputs": [
    {
     "name": "stdout",
     "output_type": "stream",
     "text": [
      "3725.222222222222\n",
      "1626.0\n"
     ]
    }
   ],
   "source": [
    "import numpy as np\n",
    "B=[1435,1500,1626,1900,20000,2415,1923,1312,1416]\n",
    "B.sort()\n",
    "\n",
    "print(np.mean(B))\n",
    "print(np.median(B))"
   ]
  },
  {
   "cell_type": "code",
   "execution_count": null,
   "metadata": {},
   "outputs": [],
   "source": [
    "a = [1,2,3,4,5,6,7,8,9]\n",
    "b =[1,2,3,4] = 2.5\n",
    "c =[6,7,8,9] = 7.5\n"
   ]
  },
  {
   "cell_type": "code",
   "execution_count": 11,
   "metadata": {},
   "outputs": [
    {
     "name": "stdout",
     "output_type": "stream",
     "text": [
      "24\n",
      "[82.2, 83.2, 83.2, 83.9, 84.2, 84.4, 84.5, 84.7, 85.5, 85.6, 86.3, 86.5, 86.6, 87.0, 87.5, 87.8, 87.9, 87.9, 88.0, 88.3, 88.5, 88.8, 89.3, 90.0]\n",
      "82.2 90.0\n"
     ]
    }
   ],
   "source": [
    "import numpy as np\n",
    "A=[89.3,88.5,83.2,84.5,87.0,82.2,87.5,88.3,87.9,83.2,84.2,86.3,86.6,85.6,86.5,88.8,87.9,85.5,84.4,88.0,83.9,90.0,84.7,87.8]\n",
    "A.sort()\n",
    "a = len(A)\n",
    "print(a)\n",
    "min=A[0]\n",
    "max =A[len(A)-1]\n",
    "print(A)\n",
    "print(min,max)\n",
    "mid = np.median(A)"
   ]
  },
  {
   "cell_type": "code",
   "execution_count": 12,
   "metadata": {},
   "outputs": [
    {
     "ename": "ValueError",
     "evalue": "86.55 is not in list",
     "output_type": "error",
     "traceback": [
      "\u001b[1;31m---------------------------------------------------------------------------\u001b[0m",
      "\u001b[1;31mValueError\u001b[0m                                Traceback (most recent call last)",
      "\u001b[1;32m<ipython-input-12-492fcdc21d77>\u001b[0m in \u001b[0;36m<module>\u001b[1;34m\u001b[0m\n\u001b[1;32m----> 1\u001b[1;33m \u001b[0mx\u001b[0m \u001b[1;33m=\u001b[0m \u001b[0mA\u001b[0m\u001b[1;33m.\u001b[0m\u001b[0mindex\u001b[0m\u001b[1;33m(\u001b[0m\u001b[0mmid\u001b[0m\u001b[1;33m)\u001b[0m\u001b[1;33m\u001b[0m\u001b[1;33m\u001b[0m\u001b[0m\n\u001b[0m\u001b[0;32m      2\u001b[0m \u001b[0mprint\u001b[0m\u001b[1;33m(\u001b[0m\u001b[0mx\u001b[0m\u001b[1;33m)\u001b[0m\u001b[1;33m\u001b[0m\u001b[1;33m\u001b[0m\u001b[0m\n",
      "\u001b[1;31mValueError\u001b[0m: 86.55 is not in list"
     ]
    }
   ],
   "source": [
    "x = A.index(mid)\n",
    "print(x)"
   ]
  },
  {
   "cell_type": "code",
   "execution_count": 4,
   "metadata": {},
   "outputs": [
    {
     "name": "stdout",
     "output_type": "stream",
     "text": [
      "[4, 4, 5, 5, 6, 6, 6, 6, 7, 7, 7, 7, 8, 8, 8, 8, 8, 8]\n"
     ]
    }
   ],
   "source": [
    "l1 = A[0:x]\n",
    "print(l1)"
   ]
  },
  {
   "cell_type": "code",
   "execution_count": 5,
   "metadata": {},
   "outputs": [
    {
     "name": "stdout",
     "output_type": "stream",
     "text": [
      "[9]\n"
     ]
    }
   ],
   "source": [
    "l2 = A[x+1:]\n",
    "print(l2)"
   ]
  },
  {
   "cell_type": "code",
   "execution_count": 6,
   "metadata": {},
   "outputs": [
    {
     "name": "stdout",
     "output_type": "stream",
     "text": [
      "7.0 9.0\n"
     ]
    }
   ],
   "source": [
    "Q1 = np.median(l1)\n",
    "Q3 = np.median(l2)\n",
    "\n",
    "print(Q1,Q3)"
   ]
  },
  {
   "cell_type": "code",
   "execution_count": 7,
   "metadata": {},
   "outputs": [
    {
     "name": "stdout",
     "output_type": "stream",
     "text": [
      "4 7.0 7.0 9.0 9\n"
     ]
    }
   ],
   "source": [
    "print(min,Q1,mid,Q3,max)"
   ]
  },
  {
   "cell_type": "code",
   "execution_count": 8,
   "metadata": {},
   "outputs": [
    {
     "name": "stdout",
     "output_type": "stream",
     "text": [
      "[4, 4, 5, 5, 6, 6, 6, 6, 7, 7, 7, 7, 8, 8, 8, 8, 8, 8, 9, 9]\n"
     ]
    },
    {
     "data": {
      "text/plain": [
       "7.0"
      ]
     },
     "execution_count": 8,
     "metadata": {},
     "output_type": "execute_result"
    }
   ],
   "source": [
    "import numpy as np\n",
    "C=[7,8,8,8,6,7,4,5,6,9,4,5,6,6,7,7,8,8,8,9]\n",
    "C.sort()\n",
    "print(C)\n",
    "np.median(C)"
   ]
  },
  {
   "cell_type": "code",
   "execution_count": 14,
   "metadata": {},
   "outputs": [
    {
     "name": "stdout",
     "output_type": "stream",
     "text": [
      "7.359375\n",
      "8.410714285714286\n",
      "2.7128168017763383\n",
      "2.9001231500945415\n"
     ]
    }
   ],
   "source": [
    "import numpy as np\n",
    "lst = [2,4,1,5,7,9,8,3]\n",
    "# Will return the variance of the numeric dataset w/o Bessel's correction\n",
    "print(np.var(lst))\n",
    "\n",
    "# Will return the variance of the numeric dataset w/ Bessel's correction\n",
    "print(np.var(lst, ddof=1))\n",
    "\n",
    "# Will return the standard deviation of the dataset w/o Bessel's correction\n",
    "print(np.std(lst))\n",
    "\n",
    "# Will return the standard deviation of the dataset w/ Bessel's correction\n",
    "print(np.std(lst, ddof=1))"
   ]
  },
  {
   "cell_type": "code",
   "execution_count": 17,
   "metadata": {},
   "outputs": [
    {
     "name": "stdout",
     "output_type": "stream",
     "text": [
      "5.921955555555555\n"
     ]
    }
   ],
   "source": [
    "A=[7.5,8.1,8.3,8.4,6.2,7.8,4.9,5.4,6.4,9.7,10.1,10.4,11.2,12.9,13.1]\n",
    "print(np.var(A))"
   ]
  },
  {
   "cell_type": "code",
   "execution_count": 19,
   "metadata": {},
   "outputs": [],
   "source": [
    "A=[27,41,23,56,76,54,53,49,50,92,47,23,56,65,71,73,76,77]\n",
    "x = np.var(A, ddof=1)"
   ]
  },
  {
   "cell_type": "code",
   "execution_count": 20,
   "metadata": {},
   "outputs": [],
   "source": [
    "import math\n",
    "s = math.sqrt(x)"
   ]
  },
  {
   "cell_type": "code",
   "execution_count": 21,
   "metadata": {},
   "outputs": [
    {
     "name": "stdout",
     "output_type": "stream",
     "text": [
      "19.63631756007886\n"
     ]
    }
   ],
   "source": [
    "print(s)"
   ]
  },
  {
   "cell_type": "code",
   "execution_count": 22,
   "metadata": {},
   "outputs": [
    {
     "name": "stdout",
     "output_type": "stream",
     "text": [
      "7.0522602759682655\n"
     ]
    }
   ],
   "source": [
    "B=[200,201,204,207,210,189,198,210,199,214,193,194,193,200,204,210]\n",
    "print(np.std(B))"
   ]
  },
  {
   "cell_type": "code",
   "execution_count": null,
   "metadata": {},
   "outputs": [],
   "source": []
  }
 ],
 "metadata": {
  "kernelspec": {
   "display_name": "Python 3",
   "language": "python",
   "name": "python3"
  },
  "language_info": {
   "codemirror_mode": {
    "name": "ipython",
    "version": 3
   },
   "file_extension": ".py",
   "mimetype": "text/x-python",
   "name": "python",
   "nbconvert_exporter": "python",
   "pygments_lexer": "ipython3",
   "version": "3.7.4"
  }
 },
 "nbformat": 4,
 "nbformat_minor": 2
}
